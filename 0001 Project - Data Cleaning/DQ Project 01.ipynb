{
 "cells": [
  {
   "cell_type": "markdown",
   "metadata": {},
   "source": [
    "# <span style= \"color:blue\">__DataQuest Project 01__</span>\n",
    "__About Project__: This would be the first project<br/>\n",
    "__Goal__: To get this up and running"
   ]
  },
  {
   "cell_type": "code",
   "execution_count": 2,
   "metadata": {},
   "outputs": [],
   "source": [
    "def open_file(filename,withheader=True): \n",
    "    opened_file = open(filename, encoding = 'utf8')\n",
    "    from csv import reader\n",
    "    read_file = reader(opened_file)\n",
    "    list_file = list(read_file)\n",
    "    if withheader:\n",
    "        return list_file\n",
    "    else:\n",
    "        return list_file[1:]"
   ]
  },
  {
   "cell_type": "code",
   "execution_count": 3,
   "metadata": {},
   "outputs": [],
   "source": [
    "def header(file):\n",
    "    dataframe = open_file(file,True)\n",
    "    return dataframe[0]\n",
    "\n",
    "header_google_data = header('googleplaystore.csv')\n",
    "header_ios_data = header('AppleStore.csv')"
   ]
  },
  {
   "cell_type": "code",
   "execution_count": 4,
   "metadata": {},
   "outputs": [],
   "source": [
    "def explore_data(dataset, start, end, rows_and_columns=False):\n",
    "    dataset_slice = dataset[start:end]\n",
    "    for row in dataset_slice:\n",
    "        print(row)\n",
    "        print('\\n') # adds a new (emply Line)\n",
    "    if rows_and_columns:\n",
    "        print('Number of rows:', len(dataset))\n",
    "        print('Number of columns:', len(dataset[0]))"
   ]
  },
  {
   "cell_type": "code",
   "execution_count": 5,
   "metadata": {},
   "outputs": [
    {
     "name": "stdout",
     "output_type": "stream",
     "text": [
      "['Life Made WI-Fi Touchscreen Photo Frame', '1.9', '19', '3.0M', '1,000+', 'Free', '0', 'Everyone', '', 'February 11, 2018', '1.0.19', '4.0 and up']\n"
     ]
    }
   ],
   "source": [
    "google_data = open_file('googleplaystore.csv', False)\n",
    "ios_data = open_file('AppleStore.csv', False)\n",
    "\n",
    "print(google_data[10472])\n"
   ]
  },
  {
   "cell_type": "markdown",
   "metadata": {},
   "source": [
    "# <span style = \"color:blue\">__Removing the errored data row 10472.__</span>"
   ]
  },
  {
   "cell_type": "code",
   "execution_count": 6,
   "metadata": {},
   "outputs": [
    {
     "name": "stdout",
     "output_type": "stream",
     "text": [
      "['osmino Wi-Fi: free WiFi', 'TOOLS', '4.2', '134203', '4.1M', '10,000,000+', 'Free', '0', 'Everyone', 'Tools', 'August 7, 2018', '6.06.14', '4.4 and up']\n"
     ]
    }
   ],
   "source": [
    "del(google_data[10472])\n",
    "print(google_data[10472])"
   ]
  },
  {
   "cell_type": "code",
   "execution_count": 7,
   "metadata": {},
   "outputs": [
    {
     "name": "stdout",
     "output_type": "stream",
     "text": [
      "['Photo Editor & Candy Camera & Grid & ScrapBook', 'ART_AND_DESIGN', '4.1', '159', '19M', '10,000+', 'Free', '0', 'Everyone', 'Art & Design', 'January 7, 2018', '1.0.0', '4.0.3 and up']\n",
      "\n",
      "\n",
      "['Coloring book moana', 'ART_AND_DESIGN', '3.9', '967', '14M', '500,000+', 'Free', '0', 'Everyone', 'Art & Design;Pretend Play', 'January 15, 2018', '2.0.0', '4.0.3 and up']\n",
      "\n",
      "\n",
      "Number of rows: 10840\n",
      "Number of columns: 13\n"
     ]
    }
   ],
   "source": [
    "explore_data(google_data,0,2,True)"
   ]
  },
  {
   "cell_type": "code",
   "execution_count": 8,
   "metadata": {},
   "outputs": [
    {
     "name": "stdout",
     "output_type": "stream",
     "text": [
      "['1', '281656475', 'PAC-MAN Premium', '100788224', 'USD', '3.99', '21292', '26', '4', '4.5', '6.3.5', '4+', 'Games', '38', '5', '10', '1']\n",
      "\n",
      "\n",
      "['2', '281796108', 'Evernote - stay organized', '158578688', 'USD', '0', '161065', '26', '4', '3.5', '8.2.2', '4+', 'Productivity', '37', '5', '23', '1']\n",
      "\n",
      "\n",
      "Number of rows: 7197\n",
      "Number of columns: 17\n"
     ]
    }
   ],
   "source": [
    "explore_data(ios_data,0,2, True)"
   ]
  },
  {
   "cell_type": "markdown",
   "metadata": {},
   "source": [
    "Removing the duplicates, only keeping the the reviews of the same app with the highest amount of reviews"
   ]
  },
  {
   "cell_type": "markdown",
   "metadata": {},
   "source": [
    "The Google_Apps dataset is known to have duplicates.<br/>\n",
    "As part of this, there will a count of duplicates initially.<br/>\n",
    "Afterwards, we'll remove duplicates of the order entries based on the the number of reviews. The assumption is that the highest number of reviews will be the app row that is the most recent while the rest are historicals."
   ]
  },
  {
   "cell_type": "code",
   "execution_count": 9,
   "metadata": {},
   "outputs": [
    {
     "name": "stdout",
     "output_type": "stream",
     "text": [
      "['Instagram', 'SOCIAL', '4.5', '66577313', 'Varies with device', '1,000,000,000+', 'Free', '0', 'Teen', 'Social', 'July 31, 2018', 'Varies with device', 'Varies with device']\n",
      "['Instagram', 'SOCIAL', '4.5', '66577446', 'Varies with device', '1,000,000,000+', 'Free', '0', 'Teen', 'Social', 'July 31, 2018', 'Varies with device', 'Varies with device']\n",
      "['Instagram', 'SOCIAL', '4.5', '66577313', 'Varies with device', '1,000,000,000+', 'Free', '0', 'Teen', 'Social', 'July 31, 2018', 'Varies with device', 'Varies with device']\n",
      "['Instagram', 'SOCIAL', '4.5', '66509917', 'Varies with device', '1,000,000,000+', 'Free', '0', 'Teen', 'Social', 'July 31, 2018', 'Varies with device', 'Varies with device']\n"
     ]
    }
   ],
   "source": [
    "for app in google_data:\n",
    "    name = app[0]\n",
    "    if name == 'Instagram': \n",
    "        print (app)    "
   ]
  },
  {
   "cell_type": "code",
   "execution_count": 10,
   "metadata": {},
   "outputs": [],
   "source": [
    "def dupcount(listed): \n",
    "    duplicate_apps = []\n",
    "    unique_apps = []\n",
    "\n",
    "    for app in listed: \n",
    "        name = app[0]\n",
    "        if name in unique_apps:\n",
    "            duplicate_apps.append(name)\n",
    "        else:\n",
    "            unique_apps.append(name)\n",
    "    print ('Number of duplicate apps: ', len(duplicate_apps))\n",
    "    print ('Number of unique apps: ', len(unique_apps))"
   ]
  },
  {
   "cell_type": "code",
   "execution_count": 11,
   "metadata": {},
   "outputs": [
    {
     "name": "stdout",
     "output_type": "stream",
     "text": [
      "Number of duplicate apps:  1181\n",
      "Number of unique apps:  9659\n"
     ]
    }
   ],
   "source": [
    "dupcount(google_data)"
   ]
  },
  {
   "cell_type": "markdown",
   "metadata": {},
   "source": [
    "Getting rid of duplicates of past rows. \n",
    "The first part is to create a list of unique app names, and if there are duplicate  \n",
    "The sceond part "
   ]
  },
  {
   "cell_type": "code",
   "execution_count": 12,
   "metadata": {},
   "outputs": [
    {
     "name": "stdout",
     "output_type": "stream",
     "text": [
      "['Photo Editor & Candy Camera & Grid & ScrapBook', 'ART_AND_DESIGN', '4.1', '159', '19M', '10,000+', 'Free', '0', 'Everyone', 'Art & Design', 'January 7, 2018', '1.0.0', '4.0.3 and up']\n",
      "\n",
      "\n",
      "['U Launcher Lite – FREE Live Cool Themes, Hide Apps', 'ART_AND_DESIGN', '4.7', '87510', '8.7M', '5,000,000+', 'Free', '0', 'Everyone', 'Art & Design', 'August 1, 2018', '1.2.4', '4.0.3 and up']\n",
      "\n",
      "\n",
      "Number of rows: 9659\n",
      "Number of columns: 13\n",
      "['1', '281656475', 'PAC-MAN Premium', '100788224', 'USD', '3.99', '21292', '26', '4', '4.5', '6.3.5', '4+', 'Games', '38', '5', '10', '1']\n",
      "\n",
      "\n",
      "['2', '281796108', 'Evernote - stay organized', '158578688', 'USD', '0', '161065', '26', '4', '3.5', '8.2.2', '4+', 'Productivity', '37', '5', '23', '1']\n",
      "\n",
      "\n",
      "Number of rows: 7195\n",
      "Number of columns: 17\n"
     ]
    }
   ],
   "source": [
    "# Creates a list of the maximum number of reviews for each app (dictionary is create to create this unique list with the highest # of max reviews count)\n",
    "\n",
    "def nodups(listed, namecolumn,reviewcolumn):\n",
    "    reviews_max = {}\n",
    "    for row in listed:\n",
    "        name = row[namecolumn]\n",
    "        n_reviews = float(row[reviewcolumn])\n",
    "        \n",
    "        if name in reviews_max and reviews_max[name] < n_reviews:\n",
    "            reviews_max[name] = n_reviews\n",
    "        elif name not in reviews_max:\n",
    "            reviews_max[name] = n_reviews\n",
    "\n",
    "# Based on the reference list of the name and the max reviews; essentially making this into a unique combo\n",
    "# the assumption is that if there is a duplicate # of max reviews for the same app, only the first iterations will come through. \n",
    "    cleaned = []\n",
    "    already_added = []\n",
    "\n",
    "    for row in listed:\n",
    "        name = row[namecolumn]\n",
    "        n_reviews = float(row[reviewcolumn])\n",
    "        # if the interation is found in the dictionary reviews_max with the matching # of reviews, AND it's not on the already added list. We add it to the list\n",
    "        if (reviews_max[name] == n_reviews) and (name not in already_added):\n",
    "            cleaned.append(row)\n",
    "            already_added.append(name)\n",
    "    return cleaned\n",
    "\n",
    "android_clean = nodups(google_data, 0,3)\n",
    "ios_clean = nodups(ios_data, 2,6)\n",
    "\n",
    "explore_data(android_clean,0,2,True)\n",
    "explore_data(ios_clean,0,2,True)"
   ]
  },
  {
   "cell_type": "markdown",
   "metadata": {},
   "source": [
    "Create a function that detects if there is a foreign characters exists in string. Will output True if it's English only, False if it contain non-english characters. \n",
    "\n",
    "The function allows up to 3 non-english characters"
   ]
  },
  {
   "cell_type": "code",
   "execution_count": 13,
   "metadata": {},
   "outputs": [
    {
     "name": "stdout",
     "output_type": "stream",
     "text": [
      "True\n",
      "False\n",
      "True\n",
      "True\n"
     ]
    }
   ],
   "source": [
    "def nonengcheck(stringsample):\n",
    "    foreign_char =0\n",
    "    for character in stringsample:\n",
    "       if foreign_char ==4: \n",
    "           return False\n",
    "       elif ord(character) > 127:\n",
    "            foreign_char +=1\n",
    "    return True\n",
    "\n",
    "print(nonengcheck('Instagram'))\n",
    "print(nonengcheck('爱奇艺PPS -《欢乐颂2》电视剧热播'))\n",
    "print(nonengcheck('Docs To Go™ Free Office Suite'))\n",
    "print(nonengcheck('Instachat 😜'))\n"
   ]
  },
  {
   "cell_type": "code",
   "execution_count": 14,
   "metadata": {},
   "outputs": [
    {
     "name": "stdout",
     "output_type": "stream",
     "text": [
      "['Photo Editor & Candy Camera & Grid & ScrapBook', 'ART_AND_DESIGN', '4.1', '159', '19M', '10,000+', 'Free', '0', 'Everyone', 'Art & Design', 'January 7, 2018', '1.0.0', '4.0.3 and up']\n",
      "\n",
      "\n",
      "['U Launcher Lite – FREE Live Cool Themes, Hide Apps', 'ART_AND_DESIGN', '4.7', '87510', '8.7M', '5,000,000+', 'Free', '0', 'Everyone', 'Art & Design', 'August 1, 2018', '1.2.4', '4.0.3 and up']\n",
      "\n",
      "\n",
      "['Sketch - Draw & Paint', 'ART_AND_DESIGN', '4.5', '215644', '25M', '50,000,000+', 'Free', '0', 'Teen', 'Art & Design', 'June 8, 2018', 'Varies with device', '4.2 and up']\n",
      "\n",
      "\n",
      "Number of rows: 9616\n",
      "Number of columns: 13\n",
      "['1', '281656475', 'PAC-MAN Premium', '100788224', 'USD', '3.99', '21292', '26', '4', '4.5', '6.3.5', '4+', 'Games', '38', '5', '10', '1']\n",
      "\n",
      "\n",
      "['2', '281796108', 'Evernote - stay organized', '158578688', 'USD', '0', '161065', '26', '4', '3.5', '8.2.2', '4+', 'Productivity', '37', '5', '23', '1']\n",
      "\n",
      "\n",
      "['3', '281940292', 'WeatherBug - Local Weather, Radar, Maps, Alerts', '100524032', 'USD', '0', '188583', '2822', '3.5', '4.5', '5.0.0', '4+', 'Weather', '37', '5', '3', '1']\n",
      "\n",
      "\n",
      "Number of rows: 6224\n",
      "Number of columns: 17\n"
     ]
    }
   ],
   "source": [
    "def engonly(listed, namecolumn):\n",
    "    englist = []\n",
    "    for row in listed:\n",
    "        name = row[namecolumn]\n",
    "        if nonengcheck(name):\n",
    "            englist.append(row)\n",
    "    return englist\n",
    "\n",
    "eng_android_clean = engonly(android_clean,0)\n",
    "eng_ios_clean = engonly(ios_clean,2)\n",
    "\n",
    "explore_data(eng_android_clean,0,3,True)\n",
    "explore_data(eng_ios_clean,0,3,True)"
   ]
  },
  {
   "cell_type": "code",
   "execution_count": 15,
   "metadata": {},
   "outputs": [
    {
     "name": "stdout",
     "output_type": "stream",
     "text": [
      "['App', 'Category', 'Rating', 'Reviews', 'Size', 'Installs', 'Type', 'Price', 'Content Rating', 'Genres', 'Last Updated', 'Current Ver', 'Android Ver']\n",
      "['', 'id', 'track_name', 'size_bytes', 'currency', 'price', 'rating_count_tot', 'rating_count_ver', 'user_rating', 'user_rating_ver', 'ver', 'cont_rating', 'prime_genre', 'sup_devices.num', 'ipadSc_urls.num', 'lang.num', 'vpp_lic']\n"
     ]
    }
   ],
   "source": [
    "print(header_google_data)\n",
    "print(header_ios_data)"
   ]
  },
  {
   "cell_type": "markdown",
   "metadata": {},
   "source": [
    "# Purpose: to determine the kinds of apps that are likely to attract more users\n",
    "\n",
    "Validation Strategy is:\n",
    "1. Build a minimal android version of app (add it to google play)\n",
    "2. If app is good, we develop it further\n",
    "3. If profitable after 6 months, build an iOS version and add to App Store\n",
    "\n",
    "Current Objective: determine what are the most common genres in ios and googleplay with frequeny tables"
   ]
  },
  {
   "cell_type": "markdown",
   "metadata": {},
   "source": [
    "# HAVE TO FIX THE FUNCTION BELOW TO DO IT AS A PERCENTAGE OF THE TOTAL RATHER THAN COUNT"
   ]
  },
  {
   "cell_type": "code",
   "execution_count": 21,
   "metadata": {},
   "outputs": [],
   "source": [
    "# returns a frequency dictionary based on the index you provide\n",
    "def freq_table(dataset, index):\n",
    "    freq = {}\n",
    "    for row in dataset:\n",
    "        genre = row[index]\n",
    "        if genre in freq:\n",
    "            freq[genre] += 1\n",
    "        else:\n",
    "            freq[genre] = 1\n",
    "    return freq"
   ]
  },
  {
   "cell_type": "code",
   "execution_count": 28,
   "metadata": {},
   "outputs": [
    {
     "name": "stdout",
     "output_type": "stream",
     "text": [
      "Tools : 827\n",
      "Entertainment : 557\n",
      "Education : 503\n",
      "Business : 419\n",
      "Medical : 395\n",
      "Personalization : 375\n",
      "Productivity : 373\n",
      "Lifestyle : 364\n",
      "Finance : 345\n",
      "Sports : 331\n",
      "Communication : 314\n",
      "Action : 299\n",
      "Health & Fitness : 288\n",
      "Photography : 280\n",
      "News & Magazines : 250\n",
      "Social : 239\n",
      "Books & Reference : 219\n",
      "Travel & Local : 218\n",
      "Shopping : 201\n",
      "Simulation : 190\n",
      "Arcade : 184\n",
      "Dating : 170\n",
      "Casual : 165\n",
      "Video Players & Editors : 161\n",
      "Maps & Navigation : 129\n",
      "Puzzle : 119\n",
      "Food & Drink : 112\n",
      "Role Playing : 104\n",
      "Strategy : 94\n",
      "Racing : 91\n",
      "Libraries & Demo : 84\n",
      "Auto & Vehicles : 84\n",
      "Weather : 79\n",
      "House & Home : 73\n",
      "Adventure : 72\n",
      "Events : 64\n",
      "Art & Design : 56\n",
      "Comics : 54\n",
      "Beauty : 53\n",
      "Card : 47\n",
      "Parenting : 46\n",
      "Board : 42\n",
      "Casino : 39\n",
      "Educational;Education : 38\n",
      "Trivia : 37\n",
      "Educational : 37\n",
      "Education;Education : 35\n",
      "Casual;Pretend Play : 25\n",
      "Word : 23\n",
      "Music : 19\n",
      "Puzzle;Brain Games : 17\n",
      "Education;Pretend Play : 17\n",
      "Racing;Action & Adventure : 16\n",
      "Entertainment;Music & Video : 15\n",
      "Board;Brain Games : 14\n",
      "Arcade;Action & Adventure : 14\n",
      "Educational;Pretend Play : 13\n",
      "Casual;Action & Adventure : 13\n",
      "Casual;Brain Games : 12\n",
      "Action;Action & Adventure : 12\n",
      "Simulation;Action & Adventure : 7\n",
      "Parenting;Education : 7\n",
      "Entertainment;Brain Games : 7\n",
      "Parenting;Music & Video : 6\n",
      "Educational;Brain Games : 6\n",
      "Education;Creativity : 6\n",
      "Casual;Creativity : 6\n",
      "Art & Design;Creativity : 6\n",
      "Educational;Creativity : 5\n",
      "Adventure;Action & Adventure : 5\n",
      "Sports;Action & Adventure : 4\n",
      "Role Playing;Pretend Play : 4\n",
      "Role Playing;Action & Adventure : 4\n",
      "Education;Brain Games : 4\n",
      "Education;Action & Adventure : 4\n",
      "Simulation;Pretend Play : 3\n",
      "Simulation;Education : 3\n",
      "Puzzle;Action & Adventure : 3\n",
      "Music;Music & Video : 3\n",
      "Entertainment;Creativity : 3\n",
      "Entertainment;Action & Adventure : 3\n",
      "Educational;Action & Adventure : 3\n",
      "Education;Music & Video : 3\n",
      "Casual;Education : 3\n",
      "Board;Action & Adventure : 3\n",
      "Video Players & Editors;Music & Video : 2\n",
      "Strategy;Action & Adventure : 2\n",
      "Puzzle;Creativity : 2\n",
      "Entertainment;Pretend Play : 2\n",
      "Card;Action & Adventure : 2\n",
      "Books & Reference;Education : 2\n",
      "Video Players & Editors;Creativity : 1\n",
      "Trivia;Education : 1\n",
      "Travel & Local;Action & Adventure : 1\n",
      "Tools;Education : 1\n",
      "Strategy;Education : 1\n",
      "Strategy;Creativity : 1\n",
      "Role Playing;Education : 1\n",
      "Role Playing;Brain Games : 1\n",
      "Racing;Pretend Play : 1\n",
      "Puzzle;Education : 1\n",
      "Parenting;Brain Games : 1\n",
      "Music & Audio;Music & Video : 1\n",
      "Lifestyle;Pretend Play : 1\n",
      "Lifestyle;Education : 1\n",
      "Health & Fitness;Education : 1\n",
      "Health & Fitness;Action & Adventure : 1\n",
      "Entertainment;Education : 1\n",
      "Communication;Creativity : 1\n",
      "Comics;Creativity : 1\n",
      "Casual;Music & Video : 1\n",
      "Books & Reference;Creativity : 1\n",
      "Board;Pretend Play : 1\n",
      "Art & Design;Pretend Play : 1\n",
      "Art & Design;Action & Adventure : 1\n",
      "Arcade;Pretend Play : 1\n",
      "Adventure;Education : 1\n",
      "Adventure;Brain Games : 1\n"
     ]
    }
   ],
   "source": [
    "def display_table(dataset, index): \n",
    "    table = freq_table(dataset, index)\n",
    "    table_display = []\n",
    "    for key in table:\n",
    "        key_val_as_tuple = (table[key], key) #in a disctionary, when it iterate through it'll go by the key's name, so we put the frequency, after the key, creating tuples e.g. (45, 'Beauty')\n",
    "        table_display.append(key_val_as_tuple) \n",
    "\n",
    "    table_sorted = sorted(table_display, reverse = True) #tables in tuples, and sorts it by the first column e.g. (45, 'Beauty'), looks at the 45\n",
    "    for entry in table_sorted:\n",
    "        print(entry[1], ':', entry[0]) #as the name of category is in the 2nd column, that's why we reserve the order again with [1] and put the frequency after in [0]\n",
    "\n",
    "display_table(eng_android_clean,9)"
   ]
  },
  {
   "cell_type": "code",
   "execution_count": 31,
   "metadata": {},
   "outputs": [
    {
     "name": "stdout",
     "output_type": "stream",
     "text": [
      "FAMILY : 1858\n",
      "GAME : 944\n",
      "TOOLS : 828\n",
      "BUSINESS : 419\n",
      "MEDICAL : 395\n",
      "PERSONALIZATION : 375\n",
      "PRODUCTIVITY : 373\n",
      "LIFESTYLE : 365\n",
      "FINANCE : 345\n",
      "SPORTS : 325\n",
      "COMMUNICATION : 314\n",
      "HEALTH_AND_FITNESS : 288\n",
      "PHOTOGRAPHY : 280\n",
      "NEWS_AND_MAGAZINES : 250\n",
      "SOCIAL : 239\n",
      "TRAVEL_AND_LOCAL : 219\n",
      "BOOKS_AND_REFERENCE : 219\n",
      "SHOPPING : 201\n",
      "DATING : 170\n",
      "VIDEO_PLAYERS : 163\n",
      "MAPS_AND_NAVIGATION : 129\n",
      "FOOD_AND_DRINK : 112\n",
      "EDUCATION : 106\n",
      "ENTERTAINMENT : 87\n",
      "LIBRARIES_AND_DEMO : 84\n",
      "AUTO_AND_VEHICLES : 84\n",
      "WEATHER : 79\n",
      "HOUSE_AND_HOME : 73\n",
      "EVENTS : 64\n",
      "PARENTING : 60\n",
      "ART_AND_DESIGN : 60\n",
      "COMICS : 55\n",
      "BEAUTY : 53\n"
     ]
    }
   ],
   "source": [
    "display_table(eng_android_clean,1)"
   ]
  },
  {
   "cell_type": "code",
   "execution_count": 32,
   "metadata": {},
   "outputs": [
    {
     "name": "stdout",
     "output_type": "stream",
     "text": [
      "Games : 3406\n",
      "Entertainment : 453\n",
      "Education : 413\n",
      "Photo & Video : 341\n",
      "Utilities : 214\n",
      "Productivity : 169\n",
      "Health & Fitness : 165\n",
      "Music : 137\n",
      "Social Networking : 127\n",
      "Sports : 104\n",
      "Lifestyle : 100\n",
      "Shopping : 88\n",
      "Weather : 70\n",
      "Travel : 62\n",
      "News : 57\n",
      "Book : 56\n",
      "Finance : 54\n",
      "Business : 54\n",
      "Reference : 53\n",
      "Food & Drink : 47\n",
      "Navigation : 28\n",
      "Medical : 21\n",
      "Catalogs : 5\n"
     ]
    }
   ],
   "source": [
    "display_table(eng_ios_clean,12)"
   ]
  },
  {
   "cell_type": "code",
   "execution_count": null,
   "metadata": {},
   "outputs": [],
   "source": []
  }
 ],
 "metadata": {
  "interpreter": {
   "hash": "2f03528abf37155dc20467514eb0d88cd033079d894ea6fbe0ca831b83f0526e"
  },
  "kernelspec": {
   "display_name": "Python 3.9.7 64-bit",
   "name": "python3"
  },
  "language_info": {
   "codemirror_mode": {
    "name": "ipython",
    "version": 3
   },
   "file_extension": ".py",
   "mimetype": "text/x-python",
   "name": "python",
   "nbconvert_exporter": "python",
   "pygments_lexer": "ipython3",
   "version": "3.9.7"
  },
  "orig_nbformat": 4
 },
 "nbformat": 4,
 "nbformat_minor": 2
}
